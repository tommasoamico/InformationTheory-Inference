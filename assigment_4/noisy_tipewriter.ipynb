{
 "cells": [
  {
   "cell_type": "markdown",
   "metadata": {},
   "source": [
    "# Noisy typewriter"
   ]
  },
  {
   "cell_type": "code",
   "execution_count": 2,
   "metadata": {},
   "outputs": [],
   "source": [
    "import string\n",
    "import numpy as np\n",
    "from functools import reduce"
   ]
  },
  {
   "cell_type": "markdown",
   "metadata": {},
   "source": [
    "In this notebook we try to recover a message from a noisy typewriter with no error. First we describe the setting of the noisy typewriter.\n",
    "We wanna send a message of letters from a 27 letter alphabet (26 letters plus the space really) but our typewriter is a little bit misleading as it will send with equal probability either the letter we pressed, the precedding or the following one in the alphabet.\n",
    "Our task is to recover the message and incurring in no error in teh process."
   ]
  },
  {
   "cell_type": "code",
   "execution_count": 3,
   "metadata": {},
   "outputs": [],
   "source": [
    "possible_characters = [character for character in string.ascii_lowercase] + [' ']"
   ]
  },
  {
   "cell_type": "code",
   "execution_count": 4,
   "metadata": {},
   "outputs": [
    {
     "data": {
      "text/plain": [
       "27"
      ]
     },
     "execution_count": 4,
     "metadata": {},
     "output_type": "execute_result"
    }
   ],
   "source": [
    "len(possible_characters)"
   ]
  },
  {
   "cell_type": "code",
   "execution_count": 5,
   "metadata": {},
   "outputs": [],
   "source": [
    "len_text = 100"
   ]
  },
  {
   "cell_type": "code",
   "execution_count": 6,
   "metadata": {},
   "outputs": [],
   "source": [
    "list_text = np.random.choice(possible_characters, size = len_text, replace=True)"
   ]
  },
  {
   "cell_type": "code",
   "execution_count": 7,
   "metadata": {},
   "outputs": [],
   "source": [
    "text = reduce(lambda x,y: x+y, list_text, '')"
   ]
  },
  {
   "cell_type": "code",
   "execution_count": 8,
   "metadata": {},
   "outputs": [
    {
     "data": {
      "text/plain": [
       "'pbwtryzvkikdcwxiojcjzqapaxnikxeeaoyyxweozpqwkqnravxvmfituqer yoldmehlcuihaetwvaqdflvvhyqtahan mxzuni'"
      ]
     },
     "execution_count": 8,
     "metadata": {},
     "output_type": "execute_result"
    }
   ],
   "source": [
    "text"
   ]
  },
  {
   "cell_type": "markdown",
   "metadata": {},
   "source": [
    "## Solution\n",
    "\n",
    "We will solve the task in the following way:\n",
    "\n",
    "1. We will associate to eavh letter a number from 9 on in base 9 (we start from 9 in order to have always 2 units).\n",
    "2. We will associate to a group of 3 neighbouring letters a number between 0 and 8.\n",
    "3. When we send the letter we first encode it as the number associated to the letter using for each unit the central letter in the coreespondong set of 3 neoghbouring characters.\n",
    "4. Decode the message "
   ]
  },
  {
   "cell_type": "code",
   "execution_count": 66,
   "metadata": {},
   "outputs": [
    {
     "data": {
      "text/plain": [
       "{'0': 'b',\n",
       " '1': 'e',\n",
       " '2': 'h',\n",
       " '3': 'k',\n",
       " '4': 'n',\n",
       " '5': 'q',\n",
       " '6': 't',\n",
       " '7': 'w',\n",
       " '8': 'z'}"
      ]
     },
     "execution_count": 66,
     "metadata": {},
     "output_type": "execute_result"
    }
   ],
   "source": [
    "encoding_to_letter = {str(i):letter for i in range(9) for letter in [possible_characters[i * 3 + 1]]}\n",
    "encoding_to_letter"
   ]
  },
  {
   "cell_type": "code",
   "execution_count": 88,
   "metadata": {},
   "outputs": [
    {
     "data": {
      "text/plain": [
       "{'a': '0',\n",
       " 'b': '0',\n",
       " 'c': '0',\n",
       " 'd': '1',\n",
       " 'e': '1',\n",
       " 'f': '1',\n",
       " 'g': '2',\n",
       " 'h': '2',\n",
       " 'i': '2',\n",
       " 'j': '3',\n",
       " 'k': '3',\n",
       " 'l': '3',\n",
       " 'm': '4',\n",
       " 'n': '4',\n",
       " 'o': '4',\n",
       " 'p': '5',\n",
       " 'q': '5',\n",
       " 'r': '5',\n",
       " 's': '6',\n",
       " 't': '6',\n",
       " 'u': '6',\n",
       " 'v': '7',\n",
       " 'w': '7',\n",
       " 'x': '7',\n",
       " 'y': '8',\n",
       " 'z': '8',\n",
       " ' ': '8'}"
      ]
     },
     "execution_count": 88,
     "metadata": {},
     "output_type": "execute_result"
    }
   ],
   "source": [
    "letter_to_decoding = {possible_characters[i]: str((i) // 3)  for i in range(len(possible_characters))}\n",
    "letter_to_decoding"
   ]
  },
  {
   "cell_type": "code",
   "execution_count": 90,
   "metadata": {},
   "outputs": [
    {
     "data": {
      "text/plain": [
       "{'a': '10',\n",
       " 'b': '11',\n",
       " 'c': '12',\n",
       " 'd': '13',\n",
       " 'e': '14',\n",
       " 'f': '15',\n",
       " 'g': '16',\n",
       " 'h': '17',\n",
       " 'i': '18',\n",
       " 'j': '20',\n",
       " 'k': '21',\n",
       " 'l': '22',\n",
       " 'm': '23',\n",
       " 'n': '24',\n",
       " 'o': '25',\n",
       " 'p': '26',\n",
       " 'q': '27',\n",
       " 'r': '28',\n",
       " 's': '30',\n",
       " 't': '31',\n",
       " 'u': '32',\n",
       " 'v': '33',\n",
       " 'w': '34',\n",
       " 'x': '35',\n",
       " 'y': '36',\n",
       " 'z': '37',\n",
       " ' ': '38'}"
      ]
     },
     "execution_count": 90,
     "metadata": {},
     "output_type": "execute_result"
    }
   ],
   "source": [
    "letter_to_codeword = {possible_characters[i]: np.base_repr(i + 9, 9) for i in range(len(possible_characters))}\n",
    "letter_to_codeword"
   ]
  },
  {
   "cell_type": "code",
   "execution_count": 91,
   "metadata": {},
   "outputs": [],
   "source": [
    "codeword_to_letter = {np.base_repr(i + 9, 9): possible_characters[i] for i in range(len(possible_characters))}"
   ]
  },
  {
   "cell_type": "code",
   "execution_count": 67,
   "metadata": {},
   "outputs": [],
   "source": [
    "def encoder(letter):\n",
    "    assert letter in possible_characters, \"Letter not in possible characters\"\n",
    "\n",
    "    number_to_send = letter_to_codeword[letter]\n",
    "\n",
    "    first_unit = number_to_send[0]\n",
    "    second_unit = number_to_send[1]\n",
    "\n",
    "    return encoding_to_letter[first_unit] +\n",
    "\n",
    "    "
   ]
  },
  {
   "cell_type": "code",
   "execution_count": 92,
   "metadata": {},
   "outputs": [],
   "source": [
    "def channel(input):\n",
    "    output = ''\n",
    "\n",
    "    for letter in input:\n",
    "        assert letter in possible_characters, \"Letter not in possible characters\"\n",
    "\n",
    "        letter_index = possible_characters.index(letter)\n",
    "        possible_letters = [possible_characters[i % len(possible_characters)] for i in [letter_index - 1, letter_index, letter_index + 1]]\n",
    "        \n",
    "        output += str(np.random.choice(possible_letters, size = 1)[0])\n",
    "\n",
    "    return output"
   ]
  },
  {
   "cell_type": "code",
   "execution_count": 94,
   "metadata": {},
   "outputs": [],
   "source": [
    "def decoder(input):\n",
    "\n",
    "    final_decoding = ''\n",
    "    \n",
    "    for letter in input:\n",
    "        assert letter in possible_characters, \"Letter not in possible characters\"\n",
    "\n",
    "        final_decoding += letter_to_decoding[letter]\n",
    "\n",
    "    return codeword_to_letter[final_decoding]"
   ]
  },
  {
   "cell_type": "code",
   "execution_count": 97,
   "metadata": {},
   "outputs": [
    {
     "name": "stdout",
     "output_type": "stream",
     "text": [
      "a -> a\n",
      "b -> b\n",
      "c -> c\n",
      "d -> d\n",
      "e -> e\n",
      "f -> f\n",
      "g -> g\n",
      "h -> h\n",
      "i -> i\n",
      "j -> j\n",
      "k -> k\n",
      "l -> l\n",
      "m -> m\n",
      "n -> n\n",
      "o -> o\n",
      "p -> p\n",
      "q -> q\n",
      "r -> r\n",
      "s -> s\n",
      "t -> t\n",
      "u -> u\n",
      "v -> v\n",
      "w -> w\n",
      "x -> x\n",
      "y -> y\n",
      "z -> z\n",
      "  ->  \n"
     ]
    }
   ],
   "source": [
    "# Verifying the encoding works\n",
    "for character in possible_characters:\n",
    "    print(f'''{character} -> {decoder(channel(encoder(character)))}''')\n",
    "    \n",
    "    \n",
    "    \n"
   ]
  },
  {
   "cell_type": "code",
   "execution_count": 100,
   "metadata": {},
   "outputs": [
    {
     "data": {
      "text/plain": [
       "[('p', 'ht', 'hu', 'p'),\n",
       " ('b', 'ee', 'de', 'b'),\n",
       " ('w', 'kn', 'ko', 'w'),\n",
       " ('t', 'ke', 'le', 't'),\n",
       " ('r', 'hz', 'i ', 'r'),\n",
       " ('y', 'kt', 'kt', 'y'),\n",
       " ('z', 'kw', 'kx', 'z'),\n",
       " ('v', 'kk', 'jj', 'v'),\n",
       " ('k', 'he', 'id', 'k'),\n",
       " ('i', 'ez', 'ez', 'i'),\n",
       " ('k', 'he', 'hd', 'k'),\n",
       " ('d', 'ek', 'fl', 'd'),\n",
       " ('c', 'eh', 'eh', 'c'),\n",
       " ('w', 'kn', 'jm', 'w'),\n",
       " ('x', 'kq', 'lq', 'x'),\n",
       " ('i', 'ez', 'd ', 'i'),\n",
       " ('o', 'hq', 'gr', 'o'),\n",
       " ('j', 'hb', 'gb', 'j'),\n",
       " ('c', 'eh', 'fi', 'c'),\n",
       " ('j', 'hb', 'ic', 'j'),\n",
       " ('z', 'kw', 'kv', 'z'),\n",
       " ('q', 'hw', 'hx', 'q'),\n",
       " ('a', 'eb', 'fb', 'a'),\n",
       " ('p', 'ht', 'iu', 'p'),\n",
       " ('a', 'eb', 'eb', 'a'),\n",
       " ('x', 'kq', 'jq', 'x'),\n",
       " ('n', 'hn', 'hm', 'n'),\n",
       " ('i', 'ez', 'd ', 'i'),\n",
       " ('k', 'he', 'hf', 'k'),\n",
       " ('x', 'kq', 'jr', 'x'),\n",
       " ('e', 'en', 'fm', 'e'),\n",
       " ('e', 'en', 'fo', 'e'),\n",
       " ('a', 'eb', 'da', 'a'),\n",
       " ('o', 'hq', 'ip', 'o'),\n",
       " ('y', 'kt', 'ju', 'y'),\n",
       " ('y', 'kt', 'kt', 'y'),\n",
       " ('x', 'kq', 'lq', 'x'),\n",
       " ('w', 'kn', 'lo', 'w'),\n",
       " ('e', 'en', 'en', 'e'),\n",
       " ('o', 'hq', 'gr', 'o'),\n",
       " ('z', 'kw', 'kv', 'z'),\n",
       " ('p', 'ht', 'gt', 'p'),\n",
       " ('q', 'hw', 'gx', 'q'),\n",
       " ('w', 'kn', 'jm', 'w'),\n",
       " ('k', 'he', 'gd', 'k'),\n",
       " ('q', 'hw', 'gv', 'q'),\n",
       " ('n', 'hn', 'hm', 'n'),\n",
       " ('r', 'hz', 'iy', 'r'),\n",
       " ('a', 'eb', 'fb', 'a'),\n",
       " ('v', 'kk', 'jl', 'v'),\n",
       " ('x', 'kq', 'kp', 'x'),\n",
       " ('v', 'kk', 'kj', 'v'),\n",
       " ('m', 'hk', 'gk', 'm'),\n",
       " ('f', 'eq', 'dp', 'f'),\n",
       " ('i', 'ez', 'dz', 'i'),\n",
       " ('t', 'ke', 'kd', 't'),\n",
       " ('u', 'kh', 'kh', 'u'),\n",
       " ('q', 'hw', 'hx', 'q'),\n",
       " ('e', 'en', 'en', 'e'),\n",
       " ('r', 'hz', 'h ', 'r'),\n",
       " (' ', 'kz', 'k ', ' '),\n",
       " ('y', 'kt', 'jt', 'y'),\n",
       " ('o', 'hq', 'ir', 'o'),\n",
       " ('l', 'hh', 'gh', 'l'),\n",
       " ('d', 'ek', 'fj', 'd'),\n",
       " ('m', 'hk', 'ij', 'm'),\n",
       " ('e', 'en', 'fo', 'e'),\n",
       " ('h', 'ew', 'dx', 'h'),\n",
       " ('l', 'hh', 'ii', 'l'),\n",
       " ('c', 'eh', 'eh', 'c'),\n",
       " ('u', 'kh', 'jg', 'u'),\n",
       " ('i', 'ez', 'f ', 'i'),\n",
       " ('h', 'ew', 'fv', 'h'),\n",
       " ('a', 'eb', 'eb', 'a'),\n",
       " ('e', 'en', 'en', 'e'),\n",
       " ('t', 'ke', 'je', 't'),\n",
       " ('w', 'kn', 'kn', 'w'),\n",
       " ('v', 'kk', 'lj', 'v'),\n",
       " ('a', 'eb', 'db', 'a'),\n",
       " ('q', 'hw', 'hx', 'q'),\n",
       " ('d', 'ek', 'ej', 'd'),\n",
       " ('f', 'eq', 'dq', 'f'),\n",
       " ('l', 'hh', 'gh', 'l'),\n",
       " ('v', 'kk', 'kj', 'v'),\n",
       " ('v', 'kk', 'lj', 'v'),\n",
       " ('h', 'ew', 'dx', 'h'),\n",
       " ('y', 'kt', 'kt', 'y'),\n",
       " ('q', 'hw', 'gx', 'q'),\n",
       " ('t', 'ke', 'ld', 't'),\n",
       " ('a', 'eb', 'da', 'a'),\n",
       " ('h', 'ew', 'ew', 'h'),\n",
       " ('a', 'eb', 'db', 'a'),\n",
       " ('n', 'hn', 'ho', 'n'),\n",
       " (' ', 'kz', 'k ', ' '),\n",
       " ('m', 'hk', 'ij', 'm'),\n",
       " ('x', 'kq', 'lp', 'x'),\n",
       " ('z', 'kw', 'lv', 'z'),\n",
       " ('u', 'kh', 'kg', 'u'),\n",
       " ('n', 'hn', 'hn', 'n'),\n",
       " ('i', 'ez', 'fz', 'i')]"
      ]
     },
     "execution_count": 100,
     "metadata": {},
     "output_type": "execute_result"
    }
   ],
   "source": [
    "# Visualizing the process of encoding and decoding for ourtext\n",
    "[(letter, encoder(letter), channel(encoder(letter)), decoder(channel(encoder(letter)))) for letter in text]\n"
   ]
  },
  {
   "cell_type": "code",
   "execution_count": 11,
   "metadata": {},
   "outputs": [],
   "source": [
    "_2 = tmp_1[:,np.newaxis] - tmp_3\n",
    "_3 = tmp_2[:,np.newaxis] - tmp_3\n",
    "_4 = tmp_1[:,np.newaxis] - tmp_4\n",
    "tmp_5 = {( tmp_2[k], tmp_1[i], tmp_3[j], tmp_4[s]) : (_2[i, j], _[i, k], _3[k, j], _4[s, k]) for i in range(len(tmp_1)) for j in range(len(tmp_3)) for k in range(len(tmp_2)) for s in range(len(tmp_4))}"
   ]
  },
  {
   "cell_type": "code",
   "execution_count": null,
   "metadata": {},
   "outputs": [],
   "source": []
  }
 ],
 "metadata": {
  "kernelspec": {
   "display_name": "Python 3.8.12 ('base')",
   "language": "python",
   "name": "python3"
  },
  "language_info": {
   "codemirror_mode": {
    "name": "ipython",
    "version": 3
   },
   "file_extension": ".py",
   "mimetype": "text/x-python",
   "name": "python",
   "nbconvert_exporter": "python",
   "pygments_lexer": "ipython3",
   "version": "3.8.12"
  },
  "orig_nbformat": 4,
  "vscode": {
   "interpreter": {
    "hash": "cd78fef2128015050713e82ca51c6520b11aee7c9ee8df750520bbbc7384cbaa"
   }
  }
 },
 "nbformat": 4,
 "nbformat_minor": 2
}
