{
 "cells": [
  {
   "cell_type": "code",
   "execution_count": 1,
   "metadata": {},
   "outputs": [],
   "source": [
    "from collections import deque\n",
    "from functools import reduce\n",
    "from pprint import pprint\n",
    "import numpy as np\n",
    "import matplotlib.pyplot as plt"
   ]
  },
  {
   "cell_type": "markdown",
   "metadata": {},
   "source": [
    "# Huffman Code\n",
    "\n",
    "Inn this assignment we will implement a Huffman code. The binary code should be assigned such that the most frequent characters get the shortest codes and the least frequent characters get the longest codes. <br>\n",
    "The Huffman code is a prefix code, which means that no code is a prefix of another code.<br>\n",
    "The code will then be tested on the same Shakespeare text used in `assiment_1`."
   ]
  },
  {
   "cell_type": "code",
   "execution_count": 2,
   "metadata": {},
   "outputs": [],
   "source": [
    "class codeword:\n",
    "    def __init__(self, probabiliy):\n",
    "        #self.parents_queue = parents_queue\n",
    "        self.probability = probabiliy\n",
    "        self.name = None\n",
    "        #self.children = []\n",
    "        #self.parent = None\n",
    "        #self.binary = None\n",
    "        \n",
    "\n",
    "    #def append_binary(self, bit):\n",
    "     #   self.code = bit + self.code\n",
    "\n",
    "    #def append_iterative_children(self, children):\n",
    "     #   self.children.append(children)\n",
    "      #  if type(children) == \n",
    "\n",
    "\n",
    "    \n"
   ]
  },
  {
   "cell_type": "code",
   "execution_count": 3,
   "metadata": {},
   "outputs": [],
   "source": [
    "def build_tree(probabilities, separator = '-'):\n",
    "    '''\n",
    "    Build a Huffman Code from a dictionary of probabilities\n",
    "    '''\n",
    "\n",
    "    \n",
    "    \n",
    "    \n",
    "    \n",
    "    assert np.isclose(sum(probabilities.values()), 1), 'Probabilities must sum to 1'\n",
    "\n",
    "    assert all([p >= 0 for p in probabilities.values()]), 'Probabilities must be non-negative'\n",
    "\n",
    "    assert type(probabilities) == dict, 'Probabilities must be a dictionary'\n",
    "\n",
    "    assert type(separator) == str, 'Separator must be a string'\n",
    "\n",
    "\n",
    "    #Sorting the probabilities dictionary\n",
    "    probabilities = dict(sorted(probabilities.items(), key=lambda x: x[1], reverse=True))\n",
    "\n",
    "    height_dict = {k: i + 1 for i, k in enumerate(probabilities.keys())}\n",
    "\n",
    "    parents = deque(probabilities.keys())\n",
    "\n",
    "    updating_probabilities = probabilities.copy()\n",
    "\n",
    "    codes = {k: '' for k in parents}\n",
    "\n",
    "    all_parents = {}\n",
    "\n",
    "    tree = ''\n",
    "\n",
    "    \n",
    "\n",
    "    j = 1\n",
    "    while len(parents) > 1:\n",
    "        # Sort parents by probability\n",
    "        parents = deque(sorted(parents, key=lambda x: -updating_probabilities[x]))\n",
    "\n",
    "        # Get the two parents with the lowest probability\n",
    "        children1 = parents.pop()\n",
    "        children2 = parents.pop()\n",
    "\n",
    "        # Create a new parent with the sum of the probabilities\n",
    "        new_parent = codeword(updating_probabilities[children1] + updating_probabilities[children2])\n",
    "        new_parent.name = children1 + separator + children2\n",
    "        new_parent.probability = updating_probabilities[children1] + updating_probabilities[children2]\n",
    "\n",
    "        #height_dict[new_parent.name] = (height_dict[children1] + height_dict[children2])/2\n",
    "\n",
    "        splitted_children1 = children1.split(separator)\n",
    "        splitted_children2 = children2.split(separator)\n",
    "        \n",
    "        #print(splitted_children2)\n",
    "        children_1_order = reduce(lambda x, y: x + height_dict[y], splitted_children1, 0)\n",
    "        children_2_order = reduce(lambda x, y: x + height_dict[y], splitted_children2, 0)\n",
    "\n",
    "        if children_1_order < children_2_order:\n",
    "            bin_1 = '1'\n",
    "            bin_2 = '0'\n",
    "        else:\n",
    "            bin_1 = '0'\n",
    "            bin_2 = '1'\n",
    "        \n",
    "        #print(splitted_children1, '1', bin_1)\n",
    "        #print(splitted_children2, '2', bin_2)\n",
    "        for child in splitted_children1:\n",
    "            codes[child] += bin_1\n",
    "\n",
    "        for child in splitted_children2:\n",
    "            codes[child] += bin_2\n",
    "\n",
    "        # Append the parents as children to the new parent\n",
    "        parents.append(new_parent.name)\n",
    "        \n",
    "        updating_probabilities[new_parent.name] = new_parent.probability\n",
    "\n",
    "        all_parents[str(j)] = new_parent.name\n",
    "\n",
    "        j += 1\n",
    "\n",
    "        tree += new_parent.name + ' '\n",
    "    \n",
    "\n",
    "    codes = {k: codes[k][::-1] for k in codes}\n",
    "\n",
    "    return tree, all_parents, codes\n",
    "        \n",
    "        "
   ]
  },
  {
   "cell_type": "markdown",
   "metadata": {},
   "source": [
    "## First exmaple\n",
    "\n",
    "In the following, before applying our function to Shakespeare's text we will focus on a simple example using the $PMF$ used in the previous assigment."
   ]
  },
  {
   "cell_type": "code",
   "execution_count": 4,
   "metadata": {},
   "outputs": [],
   "source": [
    "outcomes_prob_dict = {'x1': 1/4, 'x2': 1/4, 'x3': 1/4, 'x4': 3/16, 'x5': 1/64, 'x6': 1/64, 'x7': 1/64, 'x8': 1/64}\n"
   ]
  },
  {
   "cell_type": "code",
   "execution_count": 5,
   "metadata": {},
   "outputs": [],
   "source": [
    "tree, all_parents, codes = build_tree(outcomes_prob_dict)\n"
   ]
  },
  {
   "cell_type": "code",
   "execution_count": 6,
   "metadata": {},
   "outputs": [
    {
     "name": "stdout",
     "output_type": "stream",
     "text": [
      "{'x1': '11',\n",
      " 'x2': '10',\n",
      " 'x3': '01',\n",
      " 'x4': '001',\n",
      " 'x5': '00011',\n",
      " 'x6': '00010',\n",
      " 'x7': '00001',\n",
      " 'x8': '00000'}\n"
     ]
    }
   ],
   "source": [
    "pprint(codes)"
   ]
  },
  {
   "cell_type": "markdown",
   "metadata": {},
   "source": [
    "### Testing on Shakespeare text"
   ]
  },
  {
   "cell_type": "code",
   "execution_count": null,
   "metadata": {},
   "outputs": [],
   "source": []
  },
  {
   "cell_type": "code",
   "execution_count": 7,
   "metadata": {},
   "outputs": [
    {
     "name": "stdout",
     "output_type": "stream",
     "text": [
      "Is > a valid separator?  True\n"
     ]
    }
   ],
   "source": [
    "with open('../../tempest.txt', mode = 'r') as f:\n",
    "    text = f.read()\n",
    "\n",
    "text = text.lower() # convert to lowercase\n",
    "\n",
    "unique_characters = list(set(text)) # get unique characters\n",
    "\n",
    "probabilities = {c: text.count(c)/len(text) for c in unique_characters} # get the probability distribution\n",
    "\n",
    "print('Is > a valid separator? ', not '>' in unique_characters)\n",
    "\n",
    "tree, all_parents, codes = build_tree(probabilities, separator = '>')\n"
   ]
  },
  {
   "cell_type": "code",
   "execution_count": 8,
   "metadata": {},
   "outputs": [
    {
     "name": "stdout",
     "output_type": "stream",
     "text": [
      "{'\\n': '01101',\n",
      " ' ': '11',\n",
      " '!': '000000001',\n",
      " '&': '0000000000000',\n",
      " \"'\": '01000000',\n",
      " ',': '001011',\n",
      " '-': '000000011',\n",
      " '.': '0000001',\n",
      " ':': '000000010',\n",
      " ';': '10000001',\n",
      " '?': '100000001',\n",
      " '[': '000000000001',\n",
      " ']': '0000000000001',\n",
      " 'a': '1001',\n",
      " 'b': '100001',\n",
      " 'c': '001010',\n",
      " 'd': '10001',\n",
      " 'e': '0111',\n",
      " 'f': '001001',\n",
      " 'g': '0100001',\n",
      " 'h': '01001',\n",
      " 'i': '1011',\n",
      " 'j': '1000000000',\n",
      " 'k': '1000001',\n",
      " 'l': '00001',\n",
      " 'm': '011001',\n",
      " 'n': '1010',\n",
      " 'o': '0011',\n",
      " 'p': '001000',\n",
      " 'q': '00000000001',\n",
      " 'r': '01010',\n",
      " 's': '01011',\n",
      " 't': '0001',\n",
      " 'u': '010001',\n",
      " 'v': '01000001',\n",
      " 'w': '011000',\n",
      " 'x': '1000000001',\n",
      " 'y': '000001',\n",
      " 'z': '0000000001'}\n"
     ]
    }
   ],
   "source": [
    "pprint(codes)"
   ]
  },
  {
   "cell_type": "code",
   "execution_count": 20,
   "metadata": {},
   "outputs": [],
   "source": [
    "ordered_prob = dict(sorted(probabilities.items(), key=lambda x: x[0], reverse=False))\n",
    "\n"
   ]
  },
  {
   "cell_type": "code",
   "execution_count": 10,
   "metadata": {},
   "outputs": [],
   "source": [
    "ordered_codes = dict(sorted(codes.items(), key=lambda x: x[0], reverse=False))\n"
   ]
  },
  {
   "cell_type": "code",
   "execution_count": 11,
   "metadata": {},
   "outputs": [],
   "source": [
    "len_codes = {k: len(codes[k]) for k in codes}"
   ]
  },
  {
   "cell_type": "code",
   "execution_count": 28,
   "metadata": {},
   "outputs": [
    {
     "name": "stdout",
     "output_type": "stream",
     "text": [
      "The average length returned is 4.26\n"
     ]
    }
   ],
   "source": [
    "print(f'The average length returned is {np.sum(np.array([len_codes[k] * probabilities[k] for k in probabilities])):.2f}')"
   ]
  },
  {
   "cell_type": "code",
   "execution_count": 13,
   "metadata": {},
   "outputs": [
    {
     "data": {
      "image/png": "[encoded data removed]",
      "text/plain": [
       "<Figure size 1500x700 with 1 Axes>"
      ]
     },
     "metadata": {},
     "output_type": "display_data"
    }
   ],
   "source": [
    "len_codes_dict = {k: len(v) for k, v in ordered_codes.items()}\n",
    "fig, ax = plt.subplots(1, 1, figsize = (15,7))\n",
    "width = 0.4\n",
    "ax.bar(np.arange(len(ordered_codes)), np.array(list(len_codes_dict.values()))/np.sum(list(len_codes.values())), width =width, edgecolor = 'black', alpha=0.7, zorder = 2,\\\n",
    "    label = 'code-word length')\n",
    "\n",
    "ax.bar(np.arange(len(ordered_prob)) + width, np.array(list(ordered_prob.values())), width =width, edgecolor = 'black', alpha=0.7, zorder = 2,\\\n",
    "    label = 'string probability')\n",
    "#ax.bar(np.arange(len(ordered_prob)) + width, np.array(list(ordered_prob.values())), width = width, edgecolor = 'black', alpha=0.7, zorder = 2, orientation = 'horizontal',\\\n",
    "    #label = 'string probability \n",
    "\n",
    "x_ticks_label = list(ordered_prob.keys())\n",
    "x_ticks_label = list(map(lambda x: x.replace(' ', '\\' \\''), x_ticks_label))\n",
    "x_ticks_label = list(map(lambda x: x.replace('\\n', '\\\\n'), x_ticks_label))\n",
    "ax.set_xticks(np.arange(len(ordered_prob)) + width/2)\n",
    "ax.set_xticklabels(x_ticks_label, rotation = 0)\n",
    "ax.tick_params(axis='y', which='major', labelsize=15, length=15)\n",
    "ax.tick_params(axis='y', which='minor', labelsize=15, length=8)\n",
    "ax.tick_params(axis='x', which='minor', labelsize=0, length=0)\n",
    "ax.minorticks_on()\n",
    "ax.grid(zorder = 1)\n",
    "ax.set_ylabel('String Probability / Normalized code-word length', fontsize = 15)\n",
    "ax.legend(facecolor = 'aliceblue', fontsize = 15, shadow = True, edgecolor = 'black')\n",
    "ax.set_title('String Probability and Normalized code-word length', fontsize = 20)\n",
    "plt.show()"
   ]
  },
  {
   "cell_type": "markdown",
   "metadata": {},
   "source": [
    "## Discussion of the results\n",
    "\n",
    "We can see that the most frequent characters get the shortest codes and the least frequent characters get the longest codes that is what we wanted and what Huffman codes predicates. <br>"
   ]
  },
  {
   "cell_type": "markdown",
   "metadata": {},
   "source": []
  }
 ],
 "metadata": {
  "kernelspec": {
   "display_name": "Python 3.8.12 ('base')",
   "language": "python",
   "name": "python3"
  },
  "language_info": {
   "codemirror_mode": {
    "name": "ipython",
    "version": 3
   },
   "file_extension": ".py",
   "mimetype": "text/x-python",
   "name": "python",
   "nbconvert_exporter": "python",
   "pygments_lexer": "ipython3",
   "version": "3.8.12"
  },
  "orig_nbformat": 4,
  "vscode": {
   "interpreter": {
    "hash": "cd78fef2128015050713e82ca51c6520b11aee7c9ee8df750520bbbc7384cbaa"
   }
  }
 },
 "nbformat": 4,
 "nbformat_minor": 2
}
