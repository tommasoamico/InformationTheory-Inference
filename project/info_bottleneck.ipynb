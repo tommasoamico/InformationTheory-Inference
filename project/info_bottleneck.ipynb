{
 "cells": [
  {
   "attachments": {},
   "cell_type": "markdown",
   "metadata": {},
   "source": [
    "# Information Bottleneck"
   ]
  },
  {
   "cell_type": "code",
   "execution_count": 1,
   "metadata": {},
   "outputs": [],
   "source": [
    "import torch.nn as nn\n",
    "import torch\n",
    "import torch.nn.functional as F\n",
    "\n",
    "from compute_MI import compute_MI_binning"
   ]
  },
  {
   "cell_type": "code",
   "execution_count": 2,
   "metadata": {},
   "outputs": [],
   "source": [
    "import numpy as np \n",
    "import matplotlib.pyplot as plt"
   ]
  },
  {
   "cell_type": "code",
   "execution_count": 40,
   "metadata": {},
   "outputs": [
    {
     "name": "stdout",
     "output_type": "stream",
     "text": [
      "Weights shape, unsupervised part: (5, 2000, 784)\n",
      "Weights shape, supervised part: (1,)\n",
      "Number of epochs: 5\n"
     ]
    }
   ],
   "source": [
    "# load file with weights of the unsupervised part\n",
    "filename = 'nic_mat.npy'\n",
    "weights = np.load(filename) \n",
    "print('Weights shape, unsupervised part:', weights.shape)\n",
    "\n",
    "# load file with weights of the supervised part\n",
    "filename = '...............'\n",
    "weights_supervised = np.array([0])\n",
    "print('Weights shape, supervised part:', weights_supervised.shape)\n",
    "\n",
    "# epochs\n",
    "nepochs = weights.shape[0]  \n",
    "print('Number of epochs:', nepochs)"
   ]
  },
  {
   "cell_type": "code",
   "execution_count": 41,
   "metadata": {},
   "outputs": [],
   "source": [
    "# define network\n",
    "class BioNet_unsupervised(nn.Module):\n",
    "    def __init__(self,\n",
    "                 weights,\n",
    "                 n : float = 4.5):\n",
    "        \n",
    "        \"\"\"\n",
    "        Simple MNIST classifier initialized with weights from the unsupervised (bio)learning algorithm for the first layer.\n",
    "        \n",
    "        Parameters\n",
    "        ----------\n",
    "        weights : np.array of shape (hidden_dim, input_dim), where input_dim = 28*28 for the MNIST dataset, and hidden_dim=2000\n",
    "            Weights computed from unsupervised learning.\n",
    "        n : float\n",
    "            Exponent of ReLU\n",
    "        \"\"\"\n",
    "        \n",
    "        super().__init__()\n",
    "        self.weights = torch.t(torch.from_numpy(weights)) #shape (output_dim, input_dim) -> (input_dim, output_dim)\n",
    "        #[Because batch_size is the first dimension of inputs, and so it is convenient to transpose the weights\n",
    "        #so that a single matrix multiplication works for the entire batch]\n",
    "        \n",
    "        self.n = n\n",
    "        \n",
    "    def forward(self, inputs : torch.Tensor): # vᵢ: (batch_sz, img_sz)\n",
    "        \"\"\"\n",
    "        Parameters\n",
    "        ----------\n",
    "        inputs : torch.Tensor of shape (batch_size, input_dim)\n",
    "            Batch of input values\n",
    "        \"\"\"\n",
    "        \n",
    "        out = torch.matmul(inputs, self.weights) \n",
    "        out = F.relu(out) ** self.n\n",
    "        \n",
    "        return out\n",
    "    \n",
    "# define network\n",
    "class BioNet_complete(nn.Module):\n",
    "    def __init__(self,\n",
    "                 weights_hidden,\n",
    "                 weights_classif,\n",
    "                 n : float = 4.5,\n",
    "                 beta : float =.01):\n",
    "        \n",
    "        \"\"\"\n",
    "        Simple MNIST classifier initialized with weights from the unsupervised (bio)learning algorithm for the first layer.\n",
    "        \n",
    "        Parameters\n",
    "        ----------\n",
    "        weights_hidden : np.array of shape (hidden_dim, input_dim), where input_dim = 28*28 for the MNIST dataset, and hidden_dim=2000\n",
    "            Weights computed from unsupervised learning.\n",
    "            \n",
    "        weights_classif : np.array of shape (output_dim, hidden_dim), where output_dim = 10 for the MNIST dataset, and hidden_dim=2000\n",
    "            Weights computed from supervised learning.\n",
    "\n",
    "        n : float\n",
    "            Exponent of ReLU\n",
    "        beta : float\n",
    "            \"Inverse temperature\" for tanh activation in the top layer (See equation 1 in [10]).\n",
    "        \"\"\"\n",
    "        \n",
    "        super().__init__()\n",
    "        self.weights_hidden = torch.t(torch.from_numpy(weights_hidden)) #shape (output_dim, input_dim) -> (input_dim, output_dim)\n",
    "        self.weights_classif = torch.t(torch.from_numpy(weights_classif)) #shape (output_dim, input_dim) -> (input_dim, output_dim)\n",
    "        #[Because batch_size is the first dimension of inputs, and so it is convenient to transpose the weights\n",
    "        #so that a single matrix multiplication works for the entire batch]\n",
    "        \n",
    "        self.n = n\n",
    "        self.beta = beta\n",
    "        \n",
    "        \n",
    "    def forward(self, inputs : torch.Tensor): # vᵢ: (batch_sz, img_sz)\n",
    "        \"\"\"\n",
    "        Parameters\n",
    "        ----------\n",
    "        inputs : torch.Tensor of shape (batch_size, input_dim)\n",
    "            Batch of input values\n",
    "        \"\"\"\n",
    "        \n",
    "        out = torch.matmul(inputs, self.weights_hidden) \n",
    "        out = F.relu(out) ** self.n\n",
    "        out = torch.matmul(out, self.weights_classif) \n",
    "        out = torch.tanh(self.beta * out)\n",
    "        \n",
    "        return out"
   ]
  },
  {
   "cell_type": "code",
   "execution_count": 42,
   "metadata": {},
   "outputs": [],
   "source": [
    "# import MNIST dataset \n",
    "def get_test_data():\n",
    "    #Test with MNIST dataset \n",
    " \n",
    "    try: #Load MNIST dataset \n",
    "        X = np.load(\"data/project/MNIST/MNIST_features.npy\", allow_pickle=True)[-10000:, :]\n",
    "        # y = np.load(\"data/project/MNIST/MNIST_labels.npy\", allow_pickle=True)[-subset, :]\n",
    "        \n",
    "    except IOError: #If not present, error\n",
    "        print('data not present') \n",
    "    \n",
    "    return torch.from_numpy(X/255.) #Apply normalization, return torch tensor\n"
   ]
  },
  {
   "cell_type": "code",
   "execution_count": 43,
   "metadata": {},
   "outputs": [
    {
     "name": "stdout",
     "output_type": "stream",
     "text": [
      "Running epoch 0 ...\n",
      "Running epoch 1 ...\n",
      "Running epoch 2 ...\n",
      "Running epoch 3 ...\n",
      "Running epoch 4 ...\n",
      "Completed!\n",
      "\n",
      "(5, 10000, 2000)\n"
     ]
    }
   ],
   "source": [
    "# get data\n",
    "test_X = get_test_data()\n",
    "\n",
    "# forward step\n",
    "output_T = []\n",
    "\n",
    "for i in range(nepochs):\n",
    "    print('Running epoch %i ...' %i)\n",
    "    \n",
    "    model = BioNet_unsupervised(weights[i])\n",
    "    \n",
    "    forward_step = model.forward(test_X)\n",
    "    forward_step = forward_step.detach().numpy()\n",
    "            \n",
    "    output_T.append(forward_step)\n",
    "        \n",
    "    del model\n",
    "    \n",
    "print('Completed!')\n",
    "    \n",
    "output_T = np.array(output_T)\n",
    "\n",
    "print('')\n",
    "print(output_T.shape)\n",
    "    "
   ]
  },
  {
   "cell_type": "code",
   "execution_count": 44,
   "metadata": {},
   "outputs": [
    {
     "name": "stdout",
     "output_type": "stream",
     "text": [
      "Computing MI for epoch 0 ...\n",
      "Computing MI for epoch 1 ...\n",
      "Computing MI for epoch 2 ...\n",
      "Computing MI for epoch 3 ...\n",
      "Computing MI for epoch 4 ...\n",
      "Completed!\n"
     ]
    }
   ],
   "source": [
    "# set binning details\n",
    "bin_min = 0\n",
    "bin_max = output_T.max() \n",
    "\n",
    "nbins = 100\n",
    "\n",
    "# run over epochs and store MI\n",
    "MI_T_X = []\n",
    "\n",
    "for i in range(nepochs):\n",
    "    print('Computing MI for epoch %i ...' %i)\n",
    "    MI_tmp = compute_MI_binning(output_T[i], nbins=nbins, bin_max=bin_max, bin_min=bin_min)\n",
    "    MI_T_X.append(MI_tmp)\n",
    "    \n",
    "print('Completed!')\n"
   ]
  },
  {
   "cell_type": "code",
   "execution_count": null,
   "metadata": {},
   "outputs": [],
   "source": [
    "filename = './MI_output/MI_T_X.npy'\n",
    "np.save(file=filename, arr=np.array(MI_T_X))"
   ]
  },
  {
   "cell_type": "code",
   "execution_count": 45,
   "metadata": {},
   "outputs": [
    {
     "data": {
      "image/png": "[encoded data removed]",
      "text/plain": [
       "<Figure size 864x576 with 1 Axes>"
      ]
     },
     "metadata": {
      "needs_background": "light"
     },
     "output_type": "display_data"
    }
   ],
   "source": [
    "fig, ax = plt.subplots(figsize=(12, 8))\n",
    "\n",
    "ax.plot(np.arange(1, 1+nepochs), MI_T_X, linewidth=2)\n",
    "ax.set_xlabel('Epoch', fontsize=14)\n",
    "ax.set_ylabel('MI[X:T]', fontsize=14)\n",
    "ax.set_title('MI between T and X', fontsize=18)\n",
    "ax.grid(alpha=0.5)\n",
    "\n",
    "plt.tight_layout()\n",
    "plt.show()\n"
   ]
  },
  {
   "attachments": {},
   "cell_type": "markdown",
   "metadata": {},
   "source": [
    "## Computation of the MI between layer T and output Y"
   ]
  },
  {
   "cell_type": "code",
   "execution_count": null,
   "metadata": {},
   "outputs": [],
   "source": [
    "# full forward pass, predict output\n",
    "\n",
    "output_cl = []\n",
    "\n",
    "for i in range(nepochs):\n",
    "    print('Running epoch %i ...' %i)\n",
    "    \n",
    "    model = BioNet_complete(weights_hidden=weights[i], weights_classif=weights_supervised[i])\n",
    "    \n",
    "    forward_step = model.forward(test_X)\n",
    "    forward_step = forward_step.detach().numpy()\n",
    "    \n",
    "    cl_pred = np.argmax(forward_step, axis=1)\n",
    "            \n",
    "    output_cl.append(cl_pred)\n",
    "        \n",
    "    del model\n",
    "    \n",
    "print('Completed!')\n",
    "    \n",
    "output_cl = np.array(output_cl)\n",
    "\n",
    "print('')\n",
    "print(output_cl.shape)"
   ]
  },
  {
   "cell_type": "code",
   "execution_count": null,
   "metadata": {},
   "outputs": [],
   "source": [
    "# run over epochs and store MI\n",
    "MI_Y_T = []\n",
    "\n",
    "for i in range(nepochs):\n",
    "    print('Computing MI for epoch %i ...' %i)\n",
    "    MI_tmp = compute_MI_binning(data_layer=output_T[i] data_output=output_cl[i], nbins=nbins, bin_max=bin_max, bin_min=bin_min, wrt_input=False)\n",
    "    MI_Y_T.append(MI_tmp)\n",
    "    \n",
    "print('Completed!')"
   ]
  },
  {
   "cell_type": "code",
   "execution_count": null,
   "metadata": {},
   "outputs": [],
   "source": [
    "filename = './MI_output/MI_Y_T.npy'\n",
    "np.save(file=filename, arr=np.array(MI_Y_T))"
   ]
  },
  {
   "cell_type": "code",
   "execution_count": null,
   "metadata": {},
   "outputs": [],
   "source": [
    "fig, ax = plt.subplots(figsize=(12, 8))\n",
    "\n",
    "ax.plot(np.arange(1, 1+nepochs), MI_Y_T, linewidth=2)\n",
    "ax.set_xlabel('Epoch', fontsize=14)\n",
    "ax.set_ylabel('MI[T:Y]', fontsize=14)\n",
    "ax.set_title('MI between T and Y', fontsize=18)\n",
    "ax.grid(alpha=0.5)\n",
    "\n",
    "plt.tight_layout()\n",
    "plt.show()\n"
   ]
  },
  {
   "attachments": {},
   "cell_type": "markdown",
   "metadata": {},
   "source": [
    "## Information plane dynamics\n"
   ]
  },
  {
   "cell_type": "code",
   "execution_count": null,
   "metadata": {},
   "outputs": [],
   "source": [
    "import pandas as pd\n",
    "import seaborn as sns\n",
    "\n",
    "file_input = '...'\n",
    "file_output = '...'\n",
    "\n",
    "MI_input = np.load(file_input)\n",
    "MI_output = np.load(file_output)\n",
    "\n",
    "df_MI = pd.DataFrame({\n",
    "    'MI[X:T]': MI_input, \n",
    "    'MI[T:Y]': MI_output,\n",
    "    'Epochs': np.arange(1, 1+nepochs)\n",
    "     }\n",
    ")\n",
    "\n",
    "df_MI.head()"
   ]
  },
  {
   "cell_type": "code",
   "execution_count": null,
   "metadata": {},
   "outputs": [],
   "source": [
    "sns.set_theme()\n",
    "\n",
    "fig, ax = plt.subplots(figsize=(12, 8))\n",
    "ax = sns.scatterplot(x='MI[X:T]', y='MI[T:Y]', hue='Epochs', palette='RdBu', data=df_MI)\n",
    "\n",
    "norm = plt.Normalize(df_MI['Epochs'].min(), df_MI['Epochs'].max())\n",
    "sm = plt.cm.ScalarMappable(cmap=\"RdBu\", norm=norm)\n",
    "sm.set_array([])\n",
    "\n",
    "# Remove the legend and add a colorbar\n",
    "ax.get_legend().remove()\n",
    "ax.figure.colorbar(sm)\n",
    "\n",
    "plt.show()"
   ]
  }
 ],
 "metadata": {
  "kernelspec": {
   "display_name": "torch",
   "language": "python",
   "name": "python3"
  },
  "language_info": {
   "codemirror_mode": {
    "name": "ipython",
    "version": 3
   },
   "file_extension": ".py",
   "mimetype": "text/x-python",
   "name": "python",
   "nbconvert_exporter": "python",
   "pygments_lexer": "ipython3",
   "version": "3.8.13"
  },
  "orig_nbformat": 4,
  "vscode": {
   "interpreter": {
    "hash": "eea8b80adef1497d7dfb4c0448d9c7aaf24335e0b82315474639507e757c963e"
   }
  }
 },
 "nbformat": 4,
 "nbformat_minor": 2
}
